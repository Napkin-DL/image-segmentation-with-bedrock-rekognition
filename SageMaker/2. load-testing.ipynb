{
 "cells": [
  {
   "cell_type": "markdown",
   "id": "41e5f0b9",
   "metadata": {},
   "source": [
    "# Load Testing using Locust\n",
    "\n",
    "---\n",
    "\n",
    "모델 배포는 모델 서빙의 첫 단추로 프로덕션 배포 시에 고려할 점들이 많습니다. 예를 들어, 특정 이벤트로 인해 갑자기 동시 접속자가 증가해서 트래픽이 몰릴 수 있죠. SageMaker는 관리형 서비스이니만큼 오토스케일링 policy를 손쉽게 구성할 수 있지만, 비용 최적화 관점에서 최적의 인스턴스 종류와 개수를 정하는 것은 쉽지 않습니다. 따라서, 로드 테스트를 통해 엔드포인트가 처리할 수 있는 RPS(Request Per Second; 동시 초당 접속자)를 파악하는 것이 중요하며, 이를 위해 자체 테스트 툴킷을 개발하거나 오픈소스 툴킷을 사용합니다. (또한, re:Invent 2021에 소개된 신규 서비스인 SageMaker Inference Recommender를 사용하여 로드 테스트를 API 호출로 편리하게 수행할 수 있습니다.)\n",
    "\n",
    "본 노트북에서는 Locust (https://docs.locust.io/en/stable/) 를 사용하여 간단한 로드 테스트를 수행해 보겠습니다. Locust는 Python으로 테스트 스크립트를 빠르게 작성할 수 있고 파라메터들이 직관적이라 빠르게 로드 테스트 환경을 구축하고 실행할 수 있습니다.\n",
    "\n",
    "완료 시간은 **10-20분** 정도 소요됩니다. \n",
    "\n",
    "\n",
    "### 목차\n",
    "- [1. Create Locust Script](#1.-Create-Locust-Script)\n",
    "- [2. Load Testing](#2.-Load-Testing)"
   ]
  },
  {
   "cell_type": "markdown",
   "id": "0779b632",
   "metadata": {},
   "source": [
    "<div class=\"alert alert-warning\"><h4>주의</h4><p>\n",
    "아래 코드 셀은 ngrok 토큰을 설정하고, 주피터 노트북 커널을 셧다운시킵니다. <a href='https://ngrok.com/'>https://ngrok.com/</a> 에서 회원 가입 후, 토큰을 설정해 주시기 바랍니다.\n",
    "    \n",
    "노트북 커널이 셧다운된다면, 아래 코드 셀에서 <b><font color='darkred'>setup_needed = False</font></b>로 변경 후, 코드 셀을 다시 실행해 주세요. 이 작업은 한 번만 수행하면 됩니다. \n",
    "</p></div>"
   ]
  },
  {
   "cell_type": "markdown",
   "id": "92cc9f7b",
   "metadata": {},
   "source": [
    "회원 가입 후, 로그인하면 아래와 같은 화면이 출력됩니다. **2. Connect your account** 에서 `ngrok authtoken [YOUR-TOKEN]`의 `[YOUR-TOKEN]`을 아래 코드 셀로 복사하세요.\n",
    "![ngrok_1](img/ngrok_1.png)"
   ]
  },
  {
   "cell_type": "code",
   "execution_count": 1,
   "id": "a48aa036-800d-4bb8-a85c-0c9c9946e0f7",
   "metadata": {
    "tags": []
   },
   "outputs": [
    {
     "name": "stdout",
     "output_type": "stream",
     "text": [
      "===> Installing deps and restarting kernel. Please change 'install_needed = False' and run this code cell again.\n",
      "Collecting locust\n",
      "  Downloading locust-2.24.0-py3-none-any.whl.metadata (7.2 kB)\n",
      "Collecting pyngrok\n",
      "  Downloading pyngrok-7.1.3-py3-none-any.whl.metadata (7.6 kB)\n",
      "Requirement already satisfied: gevent>=22.10.2 in /home/ec2-user/anaconda3/envs/python3/lib/python3.10/site-packages (from locust) (23.9.0.post1)\n",
      "Requirement already satisfied: flask>=2.0.0 in /home/ec2-user/anaconda3/envs/python3/lib/python3.10/site-packages (from locust) (3.0.1)\n",
      "Requirement already satisfied: Werkzeug>=2.0.0 in /home/ec2-user/anaconda3/envs/python3/lib/python3.10/site-packages (from locust) (3.0.1)\n",
      "Requirement already satisfied: requests>=2.26.0 in /home/ec2-user/anaconda3/envs/python3/lib/python3.10/site-packages (from locust) (2.31.0)\n",
      "Requirement already satisfied: msgpack>=1.0.0 in /home/ec2-user/anaconda3/envs/python3/lib/python3.10/site-packages (from locust) (1.0.7)\n",
      "Requirement already satisfied: pyzmq>=25.0.0 in /home/ec2-user/anaconda3/envs/python3/lib/python3.10/site-packages (from locust) (25.1.2)\n",
      "Collecting geventhttpclient>=2.0.11 (from locust)\n",
      "  Downloading geventhttpclient-2.0.11-cp310-cp310-manylinux_2_5_x86_64.manylinux1_x86_64.manylinux_2_17_x86_64.manylinux2014_x86_64.whl.metadata (1.3 kB)\n",
      "Collecting ConfigArgParse>=1.5.5 (from locust)\n",
      "  Downloading ConfigArgParse-1.7-py3-none-any.whl.metadata (23 kB)\n",
      "Requirement already satisfied: psutil>=5.9.1 in /home/ec2-user/anaconda3/envs/python3/lib/python3.10/site-packages (from locust) (5.9.8)\n",
      "Collecting Flask-Login>=0.6.3 (from locust)\n",
      "  Downloading Flask_Login-0.6.3-py3-none-any.whl.metadata (5.8 kB)\n",
      "Requirement already satisfied: Flask-Cors>=3.0.10 in /home/ec2-user/anaconda3/envs/python3/lib/python3.10/site-packages (from locust) (4.0.0)\n",
      "Collecting roundrobin>=0.0.2 (from locust)\n",
      "  Downloading roundrobin-0.0.4.tar.gz (3.4 kB)\n",
      "  Preparing metadata (setup.py) ... \u001b[?25ldone\n",
      "\u001b[?25hRequirement already satisfied: tomli>=1.1.0 in /home/ec2-user/anaconda3/envs/python3/lib/python3.10/site-packages (from locust) (2.0.1)\n",
      "Requirement already satisfied: PyYAML>=5.1 in /home/ec2-user/anaconda3/envs/python3/lib/python3.10/site-packages (from pyngrok) (6.0.1)\n",
      "Requirement already satisfied: Jinja2>=3.1.2 in /home/ec2-user/anaconda3/envs/python3/lib/python3.10/site-packages (from flask>=2.0.0->locust) (3.1.3)\n",
      "Requirement already satisfied: itsdangerous>=2.1.2 in /home/ec2-user/anaconda3/envs/python3/lib/python3.10/site-packages (from flask>=2.0.0->locust) (2.1.2)\n",
      "Requirement already satisfied: click>=8.1.3 in /home/ec2-user/anaconda3/envs/python3/lib/python3.10/site-packages (from flask>=2.0.0->locust) (8.1.7)\n",
      "Requirement already satisfied: blinker>=1.6.2 in /home/ec2-user/anaconda3/envs/python3/lib/python3.10/site-packages (from flask>=2.0.0->locust) (1.7.0)\n",
      "Requirement already satisfied: zope.event in /home/ec2-user/anaconda3/envs/python3/lib/python3.10/site-packages (from gevent>=22.10.2->locust) (5.0)\n",
      "Requirement already satisfied: zope.interface in /home/ec2-user/anaconda3/envs/python3/lib/python3.10/site-packages (from gevent>=22.10.2->locust) (6.1)\n",
      "Requirement already satisfied: greenlet>=2.0.0 in /home/ec2-user/anaconda3/envs/python3/lib/python3.10/site-packages (from gevent>=22.10.2->locust) (3.0.3)\n",
      "Requirement already satisfied: certifi in /home/ec2-user/anaconda3/envs/python3/lib/python3.10/site-packages (from geventhttpclient>=2.0.11->locust) (2024.2.2)\n",
      "Requirement already satisfied: six in /home/ec2-user/anaconda3/envs/python3/lib/python3.10/site-packages (from geventhttpclient>=2.0.11->locust) (1.16.0)\n",
      "Requirement already satisfied: brotli in /home/ec2-user/anaconda3/envs/python3/lib/python3.10/site-packages (from geventhttpclient>=2.0.11->locust) (1.1.0)\n",
      "Requirement already satisfied: charset-normalizer<4,>=2 in /home/ec2-user/anaconda3/envs/python3/lib/python3.10/site-packages (from requests>=2.26.0->locust) (3.3.2)\n",
      "Requirement already satisfied: idna<4,>=2.5 in /home/ec2-user/anaconda3/envs/python3/lib/python3.10/site-packages (from requests>=2.26.0->locust) (3.6)\n",
      "Requirement already satisfied: urllib3<3,>=1.21.1 in /home/ec2-user/anaconda3/envs/python3/lib/python3.10/site-packages (from requests>=2.26.0->locust) (1.26.18)\n",
      "Requirement already satisfied: MarkupSafe>=2.1.1 in /home/ec2-user/anaconda3/envs/python3/lib/python3.10/site-packages (from Werkzeug>=2.0.0->locust) (2.1.4)\n",
      "Requirement already satisfied: setuptools in /home/ec2-user/anaconda3/envs/python3/lib/python3.10/site-packages (from zope.event->gevent>=22.10.2->locust) (69.0.3)\n",
      "Downloading locust-2.24.0-py3-none-any.whl (1.4 MB)\n",
      "\u001b[2K   \u001b[90m━━━━━━━━━━━━━━━━━━━━━━━━━━━━━━━━━━━━━━━━\u001b[0m \u001b[32m1.4/1.4 MB\u001b[0m \u001b[31m29.2 MB/s\u001b[0m eta \u001b[36m0:00:00\u001b[0ma \u001b[36m0:00:01\u001b[0m\n",
      "\u001b[?25hDownloading pyngrok-7.1.3-py3-none-any.whl (22 kB)\n",
      "Downloading ConfigArgParse-1.7-py3-none-any.whl (25 kB)\n",
      "Downloading Flask_Login-0.6.3-py3-none-any.whl (17 kB)\n",
      "Downloading geventhttpclient-2.0.11-cp310-cp310-manylinux_2_5_x86_64.manylinux1_x86_64.manylinux_2_17_x86_64.manylinux2014_x86_64.whl (103 kB)\n",
      "\u001b[2K   \u001b[90m━━━━━━━━━━━━━━━━━━━━━━━━━━━━━━━━━━━━━━━━\u001b[0m \u001b[32m103.7/103.7 kB\u001b[0m \u001b[31m16.5 MB/s\u001b[0m eta \u001b[36m0:00:00\u001b[0m\n",
      "\u001b[?25hBuilding wheels for collected packages: roundrobin\n",
      "  Building wheel for roundrobin (setup.py) ... \u001b[?25ldone\n",
      "\u001b[?25h  Created wheel for roundrobin: filename=roundrobin-0.0.4-py3-none-any.whl size=4017 sha256=6f3b5bd0edba91e58a2693aa54ef5b287ba0962366e0901d21b159d5733b5caf\n",
      "  Stored in directory: /home/ec2-user/.cache/pip/wheels/c2/e8/10/b6204cb43ae923e4f51bb5c5aee3a143ca632b3d8c0b64c078\n",
      "Successfully built roundrobin\n",
      "Installing collected packages: roundrobin, pyngrok, ConfigArgParse, geventhttpclient, Flask-Login, locust\n",
      "Successfully installed ConfigArgParse-1.7 Flask-Login-0.6.3 geventhttpclient-2.0.11 locust-2.24.0 pyngrok-7.1.3 roundrobin-0.0.4\n",
      "===> Setting the authtoken. Please change 'setup_needed = False' and run this code cell again.\n",
      "                                                                                                    \r"
     ]
    }
   ],
   "source": [
    "import sys, IPython\n",
    "\n",
    "install_needed = True\n",
    "#install_needed = False\n",
    "\n",
    "if install_needed:\n",
    "    print(\"===> Installing deps and restarting kernel. Please change 'install_needed = False' and run this code cell again.\")\n",
    "    !{sys.executable} -m pip install locust pyngrok\n",
    "    \n",
    "    \n",
    "    from pyngrok import ngrok\n",
    "    print(\"===> Setting the authtoken. Please change 'setup_needed = False' and run this code cell again.\")\n",
    "    ngrok.set_auth_token(\"[YOUR-TOKEN]\") ##<=== Token 정보를 입력해주세요.\n",
    "    \n",
    "    IPython.Application.instance().kernel.do_shutdown(True)"
   ]
  },
  {
   "cell_type": "code",
   "execution_count": 19,
   "id": "9aa02e82",
   "metadata": {
    "tags": []
   },
   "outputs": [
    {
     "name": "stdout",
     "output_type": "stream",
     "text": [
      "The autoreload extension is already loaded. To reload it, use:\n",
      "  %reload_ext autoreload\n",
      "Stored variables and their in-db values:\n",
      "ecr_image_uri              -> '763104351884.dkr.ecr.us-west-2.amazonaws.com/pyto\n",
      "endpoint_name              -> 'sam-endpoint-2024-03-04-02-05-03'\n",
      "img_path                   -> '../images/옥택연_원본.jpg'\n",
      "model_data_url             -> 's3://sagemaker-us-west-2-322537213286/sam/deploy/\n"
     ]
    }
   ],
   "source": [
    "%load_ext autoreload\n",
    "%autoreload 2\n",
    "%store -r\n",
    "%store"
   ]
  },
  {
   "cell_type": "markdown",
   "id": "c7139ea9-d094-4626-a4d5-9cb5c0a0d6e9",
   "metadata": {},
   "source": [
    "# 0. SageMaker Endpoint 생성 (이전 삭제 시 다시 생성하는 작업입니다.)"
   ]
  },
  {
   "cell_type": "code",
   "execution_count": 25,
   "id": "57ac02f9-8ad8-4646-987a-8e6a783cdd54",
   "metadata": {
    "tags": []
   },
   "outputs": [],
   "source": [
    "import boto3\n",
    "import sagemaker\n",
    "import time \n",
    "\n",
    "sm_client = boto3.client(\"sagemaker\")\n",
    "smr_client = boto3.client(\"sagemaker-runtime\")\n",
    "    \n",
    "sess = sagemaker.Session()\n",
    "sm_session = sagemaker.session.Session()\n",
    "bucket = sm_session.default_bucket()\n",
    "role = sagemaker.get_execution_role()\n",
    "\n",
    "ecr_image_uri = sagemaker.image_uris.retrieve(\n",
    "    framework='pytorch', \n",
    "    version='2.1.0',\n",
    "    instance_type='ml.g4dn.2xlarge',\n",
    "    region='us-west-2', \n",
    "    image_scope='inference'\n",
    ")\n",
    "prefix = 'sam/deploy'\n",
    "model_data_url = f's3://{bucket}/{prefix}/model.tar.gz'"
   ]
  },
  {
   "cell_type": "code",
   "execution_count": 26,
   "id": "8c0210a3-8e3b-4111-a3c8-92616b5ab7c8",
   "metadata": {
    "tags": []
   },
   "outputs": [
    {
     "name": "stdout",
     "output_type": "stream",
     "text": [
      "-------------------------------------------------!"
     ]
    },
    {
     "data": {
      "text/plain": [
       "{'EndpointName': 'sam-endpoint-2024-03-04-02-42-07',\n",
       " 'EndpointArn': 'arn:aws:sagemaker:us-west-2:322537213286:endpoint/sam-endpoint-2024-03-04-02-42-07',\n",
       " 'EndpointConfigName': 'sam-endpoint-config-2024-03-04-02-42-07',\n",
       " 'ProductionVariants': [{'VariantName': 'AllTraffic',\n",
       "   'DeployedImages': [{'SpecifiedImage': '763104351884.dkr.ecr.us-west-2.amazonaws.com/pytorch-inference:2.1.0-gpu-py310',\n",
       "     'ResolvedImage': '763104351884.dkr.ecr.us-west-2.amazonaws.com/pytorch-inference@sha256:d6344a1c254a71cae1f39de2d2ec72022e42209ee487ee83dca4a2bdd11bee02',\n",
       "     'ResolutionTime': datetime.datetime(2024, 3, 4, 2, 42, 9, 8000, tzinfo=tzlocal())}],\n",
       "   'CurrentWeight': 1.0,\n",
       "   'DesiredWeight': 1.0,\n",
       "   'CurrentInstanceCount': 1,\n",
       "   'DesiredInstanceCount': 1}],\n",
       " 'EndpointStatus': 'InService',\n",
       " 'CreationTime': datetime.datetime(2024, 3, 4, 2, 42, 8, 279000, tzinfo=tzlocal()),\n",
       " 'LastModifiedTime': datetime.datetime(2024, 3, 4, 2, 47, 9, 788000, tzinfo=tzlocal()),\n",
       " 'ResponseMetadata': {'RequestId': '41c7b1f7-27dd-4ce7-87c6-a6e094adc2f1',\n",
       "  'HTTPStatusCode': 200,\n",
       "  'HTTPHeaders': {'x-amzn-requestid': '41c7b1f7-27dd-4ce7-87c6-a6e094adc2f1',\n",
       "   'content-type': 'application/x-amz-json-1.1',\n",
       "   'content-length': '758',\n",
       "   'date': 'Mon, 04 Mar 2024 02:47:09 GMT'},\n",
       "  'RetryAttempts': 0}}"
      ]
     },
     "execution_count": 26,
     "metadata": {},
     "output_type": "execute_result"
    }
   ],
   "source": [
    "import boto3\n",
    "sm_client = boto3.client('sagemaker')\n",
    "try:\n",
    "    sm_client.describe_endpoint(EndpointName=endpoint_name)\n",
    "except:\n",
    "    ts = time.strftime(\"%Y-%m-%d-%H-%M-%S\", time.gmtime())\n",
    "    sm_model_name = f\"sam-model-{ts}\"\n",
    "    endpoint_config_name = f\"sam-endpoint-config-{ts}\"\n",
    "    endpoint_name = f\"sam-endpoint-{ts}\"\n",
    "    \n",
    "    instance_type='ml.g4dn.xlarge'\n",
    "    \n",
    "    container = {\n",
    "        \"Image\": ecr_image_uri,\n",
    "        \"ModelDataSource\": {\n",
    "                \"S3DataSource\": {\n",
    "                    \"S3Uri\": model_data_url,\n",
    "                    \"S3DataType\": \"S3Object\",\n",
    "                    \"CompressionType\": \"Gzip\", ## SageMaker Hosting\n",
    "                },\n",
    "            },\n",
    "        \"Environment\": {}\n",
    "    }\n",
    "    create_model_response = sm_client.create_model(\n",
    "        ModelName=sm_model_name, \n",
    "        ExecutionRoleArn=role, \n",
    "        PrimaryContainer=container\n",
    "    )\n",
    "\n",
    "    create_endpoint_config_response = sm_client.create_endpoint_config(\n",
    "        EndpointConfigName=endpoint_config_name,\n",
    "        ProductionVariants=[\n",
    "            {\n",
    "                \"InstanceType\": instance_type,\n",
    "                \"InitialVariantWeight\": 1,\n",
    "                \"InitialInstanceCount\": 1,\n",
    "                \"ModelName\": sm_model_name,\n",
    "                \"VariantName\": \"AllTraffic\",\n",
    "                # \"ContainerStartupHealthCheckTimeoutInSeconds\": 600\n",
    "            }\n",
    "        ]\n",
    "    )\n",
    "    create_endpoint_response = sm_client.create_endpoint(\n",
    "        EndpointName=endpoint_name, \n",
    "        EndpointConfigName=endpoint_config_name\n",
    "    )\n",
    "sess.wait_for_endpoint(endpoint_name, poll=5)"
   ]
  },
  {
   "cell_type": "markdown",
   "id": "cd30fcbe-4c85-4e4c-9dca-dccc1e19f12f",
   "metadata": {},
   "source": [
    "## SageMaker Autoscaling 설정"
   ]
  },
  {
   "cell_type": "code",
   "execution_count": 27,
   "id": "cebd9aa9-f3fe-454a-81c0-71a866b67d6c",
   "metadata": {
    "tags": []
   },
   "outputs": [
    {
     "name": "stdout",
     "output_type": "stream",
     "text": [
      "{   'CreationTime': datetime.datetime(2024, 3, 4, 2, 42, 8, 279000, tzinfo=tzlocal()),\n",
      "    'EndpointArn': 'arn:aws:sagemaker:us-west-2:322537213286:endpoint/sam-endpoint-2024-03-04-02-42-07',\n",
      "    'EndpointConfigName': 'sam-endpoint-config-2024-03-04-02-42-07',\n",
      "    'EndpointName': 'sam-endpoint-2024-03-04-02-42-07',\n",
      "    'EndpointStatus': 'InService',\n",
      "    'LastModifiedTime': datetime.datetime(2024, 3, 4, 2, 47, 9, 788000, tzinfo=tzlocal()),\n",
      "    'ProductionVariants': [   {   'CurrentInstanceCount': 1,\n",
      "                                  'CurrentWeight': 1.0,\n",
      "                                  'DeployedImages': [{...}],\n",
      "                                  'DesiredInstanceCount': 1,\n",
      "                                  'DesiredWeight': 1.0,\n",
      "                                  'VariantName': 'AllTraffic'}],\n",
      "    'ResponseMetadata': {   'HTTPHeaders': {   'content-length': '758',\n",
      "                                               'content-type': 'application/x-amz-json-1.1',\n",
      "                                               'date': 'Mon, 04 Mar 2024 '\n",
      "                                                       '02:51:34 GMT',\n",
      "                                               'x-amzn-requestid': 'a8767e26-6ce9-4d6b-bc80-4bae05bce22e'},\n",
      "                            'HTTPStatusCode': 200,\n",
      "                            'RequestId': 'a8767e26-6ce9-4d6b-bc80-4bae05bce22e',\n",
      "                            'RetryAttempts': 0}}\n"
     ]
    }
   ],
   "source": [
    "import pprint\n",
    "import boto3\n",
    "from sagemaker import get_execution_role\n",
    "import sagemaker\n",
    "import json\n",
    "\n",
    "pp = pprint.PrettyPrinter(indent=4, depth=4)\n",
    "role = get_execution_role()\n",
    "sagemaker_client = boto3.Session().client(service_name='sagemaker')\n",
    "response = sagemaker_client.describe_endpoint(EndpointName=endpoint_name)\n",
    "pp.pprint(response)"
   ]
  },
  {
   "cell_type": "code",
   "execution_count": 28,
   "id": "20013b4d-ea0b-4bf6-9081-86daad856c2c",
   "metadata": {
    "tags": []
   },
   "outputs": [],
   "source": [
    "#Let us define a client to play with autoscaling options\n",
    "client = boto3.client('application-autoscaling') # Common class representing Application Auto Scaling for SageMaker amongst other services\n",
    "resource_id='endpoint/' + endpoint_name + '/variant/' + 'AllTraffic' # This is the format in which application autoscaling references the endpoint\n",
    "policy_name = 'Invocations-ScalingPolicy'\n",
    "\n",
    "response = client.register_scalable_target(\n",
    "    ServiceNamespace='sagemaker', #\n",
    "    ResourceId=resource_id,\n",
    "    ScalableDimension='sagemaker:variant:DesiredInstanceCount',\n",
    "    MinCapacity=1,\n",
    "    MaxCapacity=5\n",
    ")\n",
    "\n",
    "#Example 1 - SageMakerVariantInvocationsPerInstance Metric\n",
    "response = client.put_scaling_policy(\n",
    "    PolicyName=policy_name,\n",
    "    ServiceNamespace='sagemaker', # The namespace of the AWS service that provides the resource. \n",
    "    ResourceId=resource_id, # Endpoint name \n",
    "    ScalableDimension='sagemaker:variant:DesiredInstanceCount', # SageMaker supports only Instance Count\n",
    "    PolicyType='TargetTrackingScaling', # 'StepScaling'|'TargetTrackingScaling'\n",
    "    TargetTrackingScalingPolicyConfiguration={\n",
    "        'TargetValue': 10.0, # The target value for the metric. - here the metric is - SageMakerVariantInvocationsPerInstance\n",
    "        'PredefinedMetricSpecification': {\n",
    "            'PredefinedMetricType': 'SageMakerVariantInvocationsPerInstance', # is the average number of times per minute that each instance for a variant is invoked. \n",
    "        },\n",
    "        'ScaleInCooldown': 600, # The cooldown period helps you prevent your Auto Scaling group from launching or terminating \n",
    "                                # additional instances before the effects of previous activities are visible. \n",
    "                                # You can configure the length of time based on your instance startup time or other application needs.\n",
    "                                # ScaleInCooldown - The amount of time, in seconds, after a scale in activity completes before another scale in activity can start. \n",
    "        'ScaleOutCooldown': 300, # ScaleOutCooldown - The amount of time, in seconds, after a scale out activity completes before another scale out activity can start.\n",
    "        # 'DisableScaleIn': True|False - ndicates whether scale in by the target tracking policy is disabled. \n",
    "                            # If the value is true , scale in is disabled and the target tracking policy won't remove capacity from the scalable resource.\n",
    "    }\n",
    ")\n",
    "\n",
    "# #Example 2 - CPUUtilization metric\n",
    "# response = client.put_scaling_policy(\n",
    "#     PolicyName='CPUUtil-ScalingPolicy',\n",
    "#     ServiceNamespace='sagemaker',\n",
    "#     ResourceId=resource_id,\n",
    "#     ScalableDimension='sagemaker:variant:DesiredInstanceCount',\n",
    "#     PolicyType='TargetTrackingScaling',\n",
    "#     TargetTrackingScalingPolicyConfiguration={\n",
    "#         'TargetValue': 90.0,\n",
    "#         'CustomizedMetricSpecification':\n",
    "#         {\n",
    "#             'MetricName': 'CPUUtilization',\n",
    "#             'Namespace': '/aws/sagemaker/Endpoints',\n",
    "#             'Dimensions': [\n",
    "#                 {'Name': 'EndpointName', 'Value': endpoint_name },\n",
    "#                 {'Name': 'VariantName','Value': 'AllTraffic'}\n",
    "#             ],\n",
    "#             'Statistic': 'Average', # Possible - 'Statistic': 'Average'|'Minimum'|'Maximum'|'SampleCount'|'Sum'\n",
    "#             'Unit': 'Percent'\n",
    "#         },\n",
    "#         'ScaleInCooldown': 600,\n",
    "#         'ScaleOutCooldown': 300\n",
    "#     }\n",
    "# )"
   ]
  },
  {
   "cell_type": "code",
   "execution_count": 29,
   "id": "4f3ef69f-b232-4a8d-a21b-1ec01bc7fbbc",
   "metadata": {
    "tags": []
   },
   "outputs": [
    {
     "name": "stdout",
     "output_type": "stream",
     "text": [
      "\n",
      "'Invocations-ScalingPolicy'\n",
      "\n",
      "{   'PredefinedMetricSpecification': {   'PredefinedMetricType': 'SageMakerVariantInvocationsPerInstance'},\n",
      "    'ScaleInCooldown': 600,\n",
      "    'ScaleOutCooldown': 300,\n",
      "    'TargetValue': 10.0}\n",
      "\n"
     ]
    }
   ],
   "source": [
    "response = client.describe_scaling_policies(\n",
    "    ServiceNamespace='sagemaker'\n",
    ")\n",
    "\n",
    "for i in response['ScalingPolicies']:\n",
    "    print('')\n",
    "    pp.pprint(i['PolicyName'])\n",
    "    print('')\n",
    "    if('TargetTrackingScalingPolicyConfiguration' in i):\n",
    "        pp.pprint(i['TargetTrackingScalingPolicyConfiguration']) \n",
    "    else:\n",
    "        pp.pprint(i['StepScalingPolicyConfiguration'])\n",
    "    print('')"
   ]
  },
  {
   "cell_type": "markdown",
   "id": "bf67069e-c7ea-4a47-818b-5bd5fa5b5d16",
   "metadata": {},
   "source": [
    "## [Optional] Scaling 설정 제거"
   ]
  },
  {
   "cell_type": "code",
   "execution_count": 31,
   "id": "5c5a23f2-04d9-4512-aa42-6b052087c69e",
   "metadata": {
    "tags": []
   },
   "outputs": [],
   "source": [
    "# response = client.deregister_scalable_target(\n",
    "#     ServiceNamespace='sagemaker', #\n",
    "#     ResourceId=resource_id,\n",
    "#     ScalableDimension='sagemaker:variant:DesiredInstanceCount'\n",
    "# )\n",
    "\n",
    "# response = client.describe_scaling_policies(\n",
    "#     ServiceNamespace='sagemaker'\n",
    "# )\n",
    "\n",
    "# for i in response['ScalingPolicies']:\n",
    "#     print('')\n",
    "#     pp.pprint(i['PolicyName'])\n",
    "#     print('')\n",
    "#     if('TargetTrackingScalingPolicyConfiguration' in i):\n",
    "#         pp.pprint(i['TargetTrackingScalingPolicyConfiguration']) \n",
    "#     else:\n",
    "#         pp.pprint(i['StepScalingPolicyConfiguration'])\n",
    "#     print('')"
   ]
  },
  {
   "cell_type": "code",
   "execution_count": 30,
   "id": "bcd274ac-adb9-42f6-ab2a-384370a78a65",
   "metadata": {
    "tags": []
   },
   "outputs": [],
   "source": [
    "## scaling policy 삭제\n",
    "\n",
    "# response = client.delete_scaling_policy(\n",
    "#     ServiceNamespace='sagemaker', #\n",
    "#     ResourceId=resource_id,\n",
    "#     ScalableDimension='sagemaker:variant:DesiredInstanceCount',\n",
    "#     PolicyName=policy_name,\n",
    "# )"
   ]
  },
  {
   "cell_type": "markdown",
   "id": "0c1533bc",
   "metadata": {},
   "source": [
    "<br>\n",
    "\n",
    "# 1. Create Locust Script\n",
    "---\n",
    "\n",
    "아래 코드 셀은 Locust 기반 로드 테스트에 필요한 스크립트를 저장합니다. \n",
    "- `config.json`: 로드 테스트에서 사용할 설정값들을 저장합니다.\n",
    "- `stress.py`: 로드 테스트 시 각 사용자의 객체를 생성하는 스크립트로, `HttpUser` 클래스를 상속받습니다. 이 클래스는 각 사용자에게 client 속성을 부여합니다. "
   ]
  },
  {
   "cell_type": "code",
   "execution_count": 49,
   "id": "e26614a5",
   "metadata": {
    "tags": []
   },
   "outputs": [
    {
     "name": "stdout",
     "output_type": "stream",
     "text": [
      "Overwriting config.json\n"
     ]
    }
   ],
   "source": [
    "%%writefile config.json\n",
    "{\n",
    "    \"contentType\": \"application/json\",\n",
    "    \"showEndpointResponse\": 0,\n",
    "    \"dataFile\": \"../images/옥택연_원본.jpg\",\n",
    "    \"numTestSamples\": 100\n",
    "}"
   ]
  },
  {
   "cell_type": "code",
   "execution_count": 50,
   "id": "7ecea630-77eb-4b84-89ef-21512eb4d6c2",
   "metadata": {
    "tags": []
   },
   "outputs": [
    {
     "name": "stdout",
     "output_type": "stream",
     "text": [
      "config_file : ./config.json\n",
      "{'contentType': 'application/json', 'showEndpointResponse': 0, 'dataFile': '../images/옥택연_원본.jpg', 'numTestSamples': 100}\n"
     ]
    }
   ],
   "source": [
    "import os, json\n",
    "config_file = \"./config.json\"\n",
    "print(f\"config_file : {config_file}\")\n",
    "with open(config_file, \"r\") as c:\n",
    "    print(json.loads(c.read()))"
   ]
  },
  {
   "cell_type": "code",
   "execution_count": 51,
   "id": "a0a46c6c",
   "metadata": {
    "tags": []
   },
   "outputs": [
    {
     "name": "stdout",
     "output_type": "stream",
     "text": [
      "Overwriting stress.py\n"
     ]
    }
   ],
   "source": [
    "%%writefile stress.py\n",
    "import os\n",
    "import json\n",
    "import time\n",
    "import boto3\n",
    "import io\n",
    "from io import StringIO\n",
    "import pandas as pd\n",
    "from locust import HttpUser, task, events, between\n",
    "\n",
    "import base64\n",
    "from PIL import Image\n",
    "from io import BytesIO\n",
    "import numpy as np\n",
    "\n",
    "class SageMakerConfig:\n",
    "\n",
    "    def __init__(self):\n",
    "        self.__config__ = None\n",
    "\n",
    "    @property\n",
    "    def data_file(self):\n",
    "        return self.config[\"dataFile\"]\n",
    "\n",
    "    @property\n",
    "    def content_type(self):\n",
    "        return self.config[\"contentType\"]\n",
    "\n",
    "    @property\n",
    "    def show_endpoint_response(self):\n",
    "        return self.config[\"showEndpointResponse\"]\n",
    "    \n",
    "    @property\n",
    "    def num_test_samples(self):\n",
    "        return self.config[\"numTestSamples\"]\n",
    "\n",
    "    @property\n",
    "    def config(self):\n",
    "        self.__config__ = self.__config__ or self.load_config()\n",
    "        return self.__config__\n",
    "\n",
    "    def load_config(self):\n",
    "        config_file = os.path.join(os.path.dirname(os.path.realpath(__file__)), \"config.json\")\n",
    "        print(f\"config_file : {config_file}\")\n",
    "        with open(config_file, \"r\") as c:\n",
    "            return json.loads(c.read())\n",
    "    \n",
    "class SageMakerEndpointTestSet(HttpUser):\n",
    "    wait_time = between(5, 15)\n",
    "    \n",
    "    def __init__(self, parent):\n",
    "        super().__init__(parent)\n",
    "        self.config = SageMakerConfig()\n",
    "        \n",
    "    def encode_image(self, image):\n",
    "        buffer = BytesIO()\n",
    "        image.save(buffer, format=\"JPEG\")\n",
    "        img_str = base64.b64encode(buffer.getvalue())\n",
    "        return img_str\n",
    "     \n",
    "    def decode_image(self, img):\n",
    "        img = img.encode(\"utf8\") if type(img) == \"bytes\" else img\n",
    "        buff = BytesIO(base64.b64decode(img))\n",
    "        image = Image.open(buff)\n",
    "        return image\n",
    "        \n",
    "    def on_start(self):\n",
    "        data_file_full_path = os.path.join(os.path.dirname(__file__), self.config.data_file)\n",
    "        print(f\"data_file_full_path : {data_file_full_path}\")\n",
    "        face_image = Image.open(data_file_full_path)\n",
    "        encode_face_image = self.encode_image(face_image).decode(\"utf-8\")\n",
    "        \n",
    "        f_left, f_top, f_width, f_height = 185, 276, 200, 279\n",
    "        self.payload = dict(\n",
    "            encode_face_image = encode_face_image,\n",
    "            input_box = [f_left, f_top, f_left+f_width, f_top+f_height]\n",
    "        )\n",
    "\n",
    "    @task\n",
    "    def test_invoke(self):\n",
    "        response = self._locust_wrapper(self._invoke_endpoint, self.payload)\n",
    "        if self.config.show_endpoint_response:\n",
    "            print(response[\"Body\"].read().decode(\"utf-8\"))\n",
    "\n",
    "    \n",
    "    def _invoke_endpoint(self, payload):\n",
    "        region = self.client.base_url.split(\"://\")[1].split(\".\")[2]\n",
    "        endpoint_name = self.client.base_url.split(\"/\")[-2]\n",
    "        runtime_client = boto3.client('sagemaker-runtime', region_name=region)\n",
    "\n",
    "        response = runtime_client.invoke_endpoint(\n",
    "            EndpointName=endpoint_name,\n",
    "            Body=json.dumps(payload),\n",
    "            ContentType=self.config.content_type\n",
    "        )\n",
    "\n",
    "        return response\n",
    "    \n",
    "\n",
    "    def _locust_wrapper(self, func, *args, **kwargs):\n",
    "        \"\"\"\n",
    "        Locust wrapper so that the func fires the sucess and failure events for custom boto3 client\n",
    "        :param func: The function to invoke\n",
    "        :param args: args to use\n",
    "        :param kwargs:\n",
    "        :return:\n",
    "        \"\"\"\n",
    "        start_time = time.time()\n",
    "        try:\n",
    "            result = func(*args, **kwargs)\n",
    "            total_time = int((time.time() - start_time) * 1000)\n",
    "            events.request.fire(request_type=\"boto3\", name=\"invoke_endpoint\", response_time=total_time,\n",
    "                                        response_length=0)\n",
    "            \n",
    "            print(f\"result : {result}\")\n",
    "            return result\n",
    "        except Exception as e:\n",
    "            total_time = int((time.time() - start_time) * 1000)\n",
    "            events.request.fire(request_type=\"boto3\", name=\"invoke_endpoint\", response_time=total_time,\n",
    "                                        response_length=0,\n",
    "                                        exception=e)\n",
    "            print(f\"exception : {e}\")\n",
    "            raise e"
   ]
  },
  {
   "cell_type": "markdown",
   "id": "86e785ab",
   "metadata": {},
   "source": [
    "<br>\n",
    "\n",
    "# 2. Load Testing\n",
    "---\n",
    "\n",
    "로드 테스트는 아래 파라메터들의 설정만으로 로드 테스트를 편리하게 수행할 수 있습니다.\n",
    "\n",
    "- `num_users`: 어플리케이션을 테스트하는 총 사용자 수입니다. \n",
    "- `spawn_rate`: 초당 몇 명씩 사용자를 늘릴 것인지 정합니다. 이 때, on_start 함수가 정의되어 있다면 이 함수를 같이 호출합니다.\n",
    "\n",
    "예를 들어 `num_users=100, spawn_rate=10` 일 때는 초당 10명의 사용자가 추가되며, 10초 후에는 100명의 사용자로 늘어납니다. 이 사용자 수에 도달하면 통계치가 재설정되니다."
   ]
  },
  {
   "cell_type": "code",
   "execution_count": 59,
   "id": "198ade15",
   "metadata": {
    "tags": []
   },
   "outputs": [],
   "source": [
    "import boto3\n",
    "region = boto3.Session().region_name\n",
    "\n",
    "num_users = 100\n",
    "spawn_rate = 10\n",
    "endpoint_url = f'https://runtime.sagemaker.{region}.amazonaws.com/endpoints/{endpoint_name}/invocations'"
   ]
  },
  {
   "cell_type": "markdown",
   "id": "74239f8e",
   "metadata": {},
   "source": [
    "### Running a locustfile\n",
    "\n",
    "주피터 노트북 상에서의 실습을 위해 nohup으로 백그라운드에서 locust를 시작합니다. Locust는 기본적으로 8089 포트를 사용합니다. (http://localahost:8089)"
   ]
  },
  {
   "cell_type": "code",
   "execution_count": 60,
   "id": "786aaf67",
   "metadata": {
    "tags": []
   },
   "outputs": [],
   "source": [
    "# %%bash -s \"$num_users\" \"$spawn_rate\" \"$endpoint_url\"\n",
    "\n",
    "# echo locust -f stress.py -u $1 -r $2 -H $3"
   ]
  },
  {
   "cell_type": "code",
   "execution_count": 61,
   "id": "60e3259d",
   "metadata": {
    "tags": []
   },
   "outputs": [],
   "source": [
    "%%bash -s \"$num_users\" \"$spawn_rate\" \"$endpoint_url\"\n",
    "\n",
    "nohup locust -f stress.py -u $1 -r $2 -H $3 >/dev/null 2>&1 &"
   ]
  },
  {
   "cell_type": "markdown",
   "id": "6566ef39",
   "metadata": {},
   "source": [
    "### Secure tunnels to localhost using ngrok\n",
    "\n",
    "ngrok를 사용해 외부에서 로컬호스트로 접속할 수 있습니다. pyngrok는 Python wrapper로 API 호출로 ngrok을 더 편리하게 사용할 수 있습니다.\n",
    "\n",
    "- ngrok: https://ngrok.com/\n",
    "- pyngrok: https://pyngrok.readthedocs.io/en/latest"
   ]
  },
  {
   "cell_type": "code",
   "execution_count": 62,
   "id": "efcf8ddd",
   "metadata": {
    "tags": []
   },
   "outputs": [],
   "source": [
    "from pyngrok import ngrok\n",
    "http_tunnel = ngrok.connect(8089, bind_tls=True)\n",
    "http_url = http_tunnel.public_url"
   ]
  },
  {
   "cell_type": "markdown",
   "id": "b2a8ddd5",
   "metadata": {},
   "source": [
    "아래 코드 셀 실행 시 출력되는 URL을 클릭 후, `Start swarming` 버튼을 클릭해 주세요."
   ]
  },
  {
   "cell_type": "code",
   "execution_count": 63,
   "id": "ae9e8b7e",
   "metadata": {
    "tags": []
   },
   "outputs": [
    {
     "name": "stderr",
     "output_type": "stream",
     "text": [
      "/tmp/ipykernel_19121/4196436774.py:1: DeprecationWarning: Importing display from IPython.core.display is deprecated since IPython 7.14, please import from IPython display\n",
      "  from IPython.core.display import display, HTML\n"
     ]
    },
    {
     "data": {
      "text/html": [
       "<b><a target=\"blank\" href=\"https://dac6-52-42-79-222.ngrok-free.app\">Load test: https://dac6-52-42-79-222.ngrok-free.app</a></b>"
      ],
      "text/plain": [
       "<IPython.core.display.HTML object>"
      ]
     },
     "metadata": {},
     "output_type": "display_data"
    }
   ],
   "source": [
    "from IPython.core.display import display, HTML\n",
    "display(HTML(f'<b><a target=\"blank\" href=\"{http_url}\">Load test: {http_url}</a></b>'))"
   ]
  },
  {
   "cell_type": "code",
   "execution_count": 64,
   "id": "d6713c53",
   "metadata": {
    "tags": []
   },
   "outputs": [
    {
     "name": "stdout",
     "output_type": "stream",
     "text": [
      "[<NgrokTunnel: \"https://dac6-52-42-79-222.ngrok-free.app\" -> \"http://localhost:8089\">]\n"
     ]
    }
   ],
   "source": [
    "tunnels = ngrok.get_tunnels()\n",
    "print(tunnels)"
   ]
  },
  {
   "cell_type": "markdown",
   "id": "f8396ae3",
   "metadata": {},
   "source": [
    "### CloudWatch Monitoring\n",
    "아래 코드 셀에서 출력되는 링크를 클릭해면 CloudWatch 대시보드로 이동합니다."
   ]
  },
  {
   "cell_type": "code",
   "execution_count": 44,
   "id": "69f3e10e",
   "metadata": {
    "tags": []
   },
   "outputs": [
    {
     "data": {
      "text/html": [
       "<b><a target=\"blank\" href=\"https://console.aws.amazon.com/cloudwatch/home?region=us-west-2#metricsV2:graph=~(metrics~(~(~'AWS*2fSageMaker~'InvocationsPerInstance~'EndpointName~'sam-endpoint-2024-03-04-02-42-07~'VariantName~'AllTraffic))~view~'timeSeries~stacked~false~region~'us-west-2~start~'-PT15M~end~'P0D~stat~'SampleCount~period~60);query=~'*7bAWS*2fSageMaker*2cEndpointName*2cVariantName*7d*20sam-endpoint-2024-03-04-02-42-07\">Cloudwatch Monitoring</a></b>"
      ],
      "text/plain": [
       "<IPython.core.display.HTML object>"
      ]
     },
     "metadata": {},
     "output_type": "display_data"
    }
   ],
   "source": [
    "cw_url = f\"https://console.aws.amazon.com/cloudwatch/home?region={region}#metricsV2:graph=~(metrics~(~(~'AWS*2fSageMaker~'InvocationsPerInstance~'EndpointName~'{endpoint_name}~'VariantName~'AllTraffic))~view~'timeSeries~stacked~false~region~'{region}~start~'-PT15M~end~'P0D~stat~'SampleCount~period~60);query=~'*7bAWS*2fSageMaker*2cEndpointName*2cVariantName*7d*20{endpoint_name}\"\n",
    "display(HTML(f'<b><a target=\"blank\" href=\"{cw_url}\">Cloudwatch Monitoring</a></b>'))"
   ]
  },
  {
   "cell_type": "markdown",
   "id": "2175d394",
   "metadata": {},
   "source": [
    "### Stop Locust and Disconnect ngrok"
   ]
  },
  {
   "cell_type": "code",
   "execution_count": 58,
   "id": "7ac9b47d",
   "metadata": {
    "tags": []
   },
   "outputs": [
    {
     "name": "stdout",
     "output_type": "stream",
     "text": [
      "locust killed (pid 12020)\n"
     ]
    }
   ],
   "source": [
    "!pkill -9 -ef locust\n",
    "ngrok.disconnect(http_url)"
   ]
  },
  {
   "cell_type": "markdown",
   "id": "979c2580",
   "metadata": {},
   "source": [
    "### (Optional) More testing\n",
    "\n",
    "위 섹션에서 `num_users, spawn_rate`를 변경해서 테스트해 보세요. (예: `num_users=1000, spawn_rate=20`) RPS가 일정 이상이면 Failures 수치가 올라가는 것을 확인할 수 있습니다."
   ]
  },
  {
   "cell_type": "markdown",
   "id": "7fe1fb50",
   "metadata": {},
   "source": [
    "<br>\n",
    "\n",
    "# 3. Endpoint Clean-up\n",
    "---\n",
    "\n",
    "과금 방지를 위해 엔드포인트를 삭제합니다."
   ]
  },
  {
   "cell_type": "code",
   "execution_count": null,
   "id": "975aea59-55b4-48a5-9d01-8f93326096a5",
   "metadata": {},
   "outputs": [],
   "source": [
    "# try:\n",
    "#     sm_client.delete_endpoint(EndpointName=endpoint_name)\n",
    "#     sm_client.delete_endpoint_config(EndpointConfigName=endpoint_config_name)\n",
    "#     sm_client.delete_model(ModelName=sm_model_name)\n",
    "# except:\n",
    "#     print(\"If any docker processes are running,Retry this cell, please.\")"
   ]
  }
 ],
 "metadata": {
  "kernelspec": {
   "display_name": "conda_python3",
   "language": "python",
   "name": "conda_python3"
  },
  "language_info": {
   "codemirror_mode": {
    "name": "ipython",
    "version": 3
   },
   "file_extension": ".py",
   "mimetype": "text/x-python",
   "name": "python",
   "nbconvert_exporter": "python",
   "pygments_lexer": "ipython3",
   "version": "3.10.13"
  }
 },
 "nbformat": 4,
 "nbformat_minor": 5
}
